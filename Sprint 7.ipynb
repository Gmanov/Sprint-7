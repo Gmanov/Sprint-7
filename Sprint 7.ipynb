{
 "cells": [
  {
   "cell_type": "markdown",
   "id": "293b255c",
   "metadata": {},
   "source": [
    "# NIVELL 1"
   ]
  },
  {
   "cell_type": "markdown",
   "id": "f3786b12",
   "metadata": {},
   "source": [
    "## - Exercici 1\n",
    "\n",
    "Calculadora de l'índex de massa corporal\n",
    "\n",
    "    Escriu una funció que calculi l'IMC ingressat per l'usuari/ària, és a dir, qui ho executi haurà d'ingressar aquestes dades. Pots obtenir més informació del seu càlcul en:\n",
    "\n",
    "    -> Índice de masa corporal IMC que es y como se calcula.\n",
    "    La funció ha de classificar el resultat en les seves respectives categories\n"
   ]
  },
  {
   "cell_type": "code",
   "execution_count": 2,
   "id": "9bb788b0",
   "metadata": {},
   "outputs": [
    {
     "name": "stdout",
     "output_type": "stream",
     "text": [
      "Por favor introduzca su peso en KG: 105\n",
      "Por favor, introduzca su altura en metros1.8\n",
      "32.407407407407405\n"
     ]
    }
   ],
   "source": [
    "def IMC (peso,altura):\n",
    "    resultado = peso / altura ** 2\n",
    "    return resultado\n",
    "\n",
    "#peso = 105\n",
    "#altura = 1.8\n",
    "\n",
    "peso = float(input(\"Por favor introduzca su peso en KG: \"))\n",
    "altura = float(input(\"Por favor, introduzca su altura en metros\"))\n",
    "\n",
    "print(IMC(peso,altura))"
   ]
  },
  {
   "cell_type": "markdown",
   "id": "d34989d9",
   "metadata": {},
   "source": [
    "# ............................................................................................................................."
   ]
  },
  {
   "cell_type": "markdown",
   "id": "1f972722",
   "metadata": {},
   "source": [
    "## - Exercici 2\n",
    "\n",
    "Convertidor de temperatures.\n",
    "\n",
    "Existeixen diverses unitats de temperatura utilitzades en diferents contextos i regions. Les més comunes són Celsius (°C), Fahrenheit (°F) i Kelvin (K). També existeixen altres unitats com Rankine (°Ra) i Réaumur (°Re). Selecciona almenys 2 i construeix el convertidor."
   ]
  },
  {
   "cell_type": "code",
   "execution_count": 3,
   "id": "3e9343f9",
   "metadata": {},
   "outputs": [
    {
     "name": "stdout",
     "output_type": "stream",
     "text": [
      "Opciones\n",
      "1) Pasar de celsius a farenheit\n",
      "2) Pasar de farenheit a celsius\n",
      "Por favor introduzca el numero de la opcion elegida.1\n",
      "Por favor introduzca los Celsius\n",
      "88\n",
      "88.0 Celsius son 190.4 farenheit\n"
     ]
    }
   ],
   "source": [
    "def celsiusafarenheit(celsius):\n",
    "    resultado = (celsius * 1.8) + 32\n",
    "    return resultado\n",
    "\n",
    "def farenheitacelsius(farenheit):\n",
    "    resultado = (farenheit -32) *5/9\n",
    "    return resultado\n",
    "\n",
    "menu = int(input('''Opciones\n",
    "1) Pasar de celsius a farenheit\n",
    "2) Pasar de farenheit a celsius\n",
    "Por favor introduzca el numero de la opcion elegida.'''))\n",
    "\n",
    "mensaje = \"Por favor introduzca los \"\n",
    "\n",
    "if menu == 1:\n",
    "    mensaje += \"Celsius\"\n",
    "    print(mensaje)\n",
    "    numero_convertir = float(input())\n",
    "    resultado = celsiusafarenheit(numero_convertir)\n",
    "    print(f\"{numero_convertir} Celsius son {resultado} farenheit\")\n",
    "elif menu == 2:\n",
    "    mensaje += \"Farenheit\"\n",
    "    print(mensaje)\n",
    "    numero_convertir = float(input())\n",
    "    resultado = farenheitacelsius(numero_convertir)\n",
    "    print(f\"{numero_convertir} Farenheit son {resultado} Celsius\")"
   ]
  },
  {
   "cell_type": "markdown",
   "id": "2c7ffe1d",
   "metadata": {},
   "source": [
    "# ............................................................................................................................."
   ]
  },
  {
   "cell_type": "markdown",
   "id": "dc08b231",
   "metadata": {},
   "source": [
    "# - Exercici 3\n",
    "\n",
    "Comptador de paraules d'un text.\n",
    "\n",
    "Escriu una funció que donat un text, mostri les vegades que apareix cada paraula."
   ]
  },
  {
   "cell_type": "code",
   "execution_count": 4,
   "id": "3aa15f0f",
   "metadata": {},
   "outputs": [
    {
     "name": "stdout",
     "output_type": "stream",
     "text": [
      "Introduce una frase: it it was was was amazing to to to to be here here\n",
      "{'it': 2, 'was': 3, 'amazing': 1, 'to': 4, 'be': 1, 'here': 2}\n"
     ]
    }
   ],
   "source": [
    "def contadordepalabras(texto):\n",
    "    palabras_separadas = texto.split()\n",
    "    palabras = {}\n",
    "\n",
    "    for palabra in palabras_separadas:\n",
    "        if palabra in palabras:\n",
    "            palabras[palabra] += 1\n",
    "        else:\n",
    "            palabras[palabra] = 1\n",
    "    return palabras\n",
    "\n",
    "\n",
    "texto = input(\"Introduce una frase: \")\n",
    "#texto = \"it it was was was amazing to to to to be here here\"\n",
    "resultado = contadordepalabras(texto)\n",
    "print(resultado)"
   ]
  },
  {
   "cell_type": "markdown",
   "id": "16033815",
   "metadata": {},
   "source": [
    "# ............................................................................................................................."
   ]
  },
  {
   "cell_type": "markdown",
   "id": "4a2ac6be",
   "metadata": {},
   "source": [
    "# - Exercici 4\n",
    "\n",
    "Diccionari invers.\n",
    "\n",
    "Resulta que el client té una enquesta molt antiga que s'emmagatzema en un diccionari i els resultats els necessita al revés, és a dir, intercanviats les claus i els valors. Els valors i claus en el diccionari original són únics; si aquest no és el cas, la funció hauria d'imprimir un missatge d'advertiment."
   ]
  },
  {
   "cell_type": "code",
   "execution_count": 5,
   "id": "9aa3f383",
   "metadata": {},
   "outputs": [
    {
     "name": "stdout",
     "output_type": "stream",
     "text": [
      "{'Daenerys': 1, 'Little Finger': 2, 'John Snow': 3, 'Viserys': 4, 5: 5}\n",
      "Hay valores y claves repetidas, 5 y 5 son los valores incorrectos, por favor revísalo.\n"
     ]
    }
   ],
   "source": [
    "def reverse_dict(original_dict):\n",
    "    reversed_dict = {value: key for key, value in original_dict.items()}\n",
    "    return reversed_dict\n",
    "\n",
    "original_dict = {1 : \"Daenerys\", 2 : \"Little Finger\", 3 : \"John Snow\", 4 : \"Viserys\", 5 : 5}\n",
    "resultado = reverse_dict(original_dict)\n",
    "print(resultado)\n",
    "\n",
    "for k,v in resultado.items():\n",
    "    if k == v:\n",
    "        print(f\"Hay valores y claves repetidas, {k} y {v} son los valores incorrectos, por favor revísalo.\")"
   ]
  },
  {
   "cell_type": "markdown",
   "id": "0601b38e",
   "metadata": {},
   "source": [
    "# ............................................................................................................................."
   ]
  },
  {
   "cell_type": "markdown",
   "id": "b5eb5e09",
   "metadata": {},
   "source": [
    "# NIVELL 2"
   ]
  },
  {
   "cell_type": "markdown",
   "id": "42933664",
   "metadata": {},
   "source": [
    "# Exercici 1\n",
    "\n",
    "Diccionari invers amb duplicats\n",
    "\n",
    "Continuant amb l'exercici 4 del nivell 1: al client es va oblidar de comentar un detall i resulta que els valors en el diccionari original poden duplicar-se i més, per la qual cosa les claus intercanviades poden tenir duplicats. En tals casos, els valors del diccionari resultant hauran d'emmagatzemar-se com una llista. Tingues en compte que un valor únic no ha de ser una llista."
   ]
  },
  {
   "cell_type": "code",
   "execution_count": 7,
   "id": "106260ce",
   "metadata": {},
   "outputs": [
    {
     "name": "stdout",
     "output_type": "stream",
     "text": [
      "{'Daenerys': 1, 'Little Finger': 2, 'John Snow': 3, 'Viserys': 4, 5: 5, 7: 'Magnum'}\n",
      "Hay valores y claves repetidas, 5 y 5 son los valores incorrectos, por favor revísalo.\n",
      "Este es el listado de valores unicos: [1, 2, 3, 4, 5, 'Magnum']\n",
      "Este es el listado de valores repetidos: []\n"
     ]
    }
   ],
   "source": [
    "def reverse_dict(original_dict):\n",
    "    reversed_dict = {value: key for key, value in original_dict.items()}\n",
    "    return reversed_dict\n",
    "\n",
    "original_dict = {1 : \"Daenerys\", 2 : \"Little Finger\", 3 : \"John Snow\", 4 : \"Viserys\", 5 : 5 ,\"Magnum\" : 6, \"Magnum\": 7}\n",
    "resultado = reverse_dict(original_dict)\n",
    "print(resultado)\n",
    "\n",
    "for k,v in resultado.items():\n",
    "    if k == v:\n",
    "        print(f\"Hay valores y claves repetidas, {k} y {v} son los valores incorrectos, por favor revísalo.\")\n",
    "    \n",
    "repetidos = []\n",
    "unicos = []\n",
    "\n",
    "for k,v in resultado.items():\n",
    "    if v not in unicos:\n",
    "        unicos.append(v)\n",
    "    else:\n",
    "        repetidos.append(v)\n",
    "\n",
    "print(f\"Este es el listado de valores unicos: {unicos}\")\n",
    "print(f\"Este es el listado de valores repetidos: {repetidos}\")"
   ]
  },
  {
   "cell_type": "markdown",
   "id": "45a5b0b8",
   "metadata": {},
   "source": [
    "### Tal como te comenté previamente, en este ejercicio nos encontramos con el problema de que si 2 KEYS son iguales, el diccionario solo entiende 1 de esos 2, entonces es imposible que tengamos despues de hacer un reverse dictionary 2 valores iguales."
   ]
  },
  {
   "cell_type": "markdown",
   "id": "0171d7e2",
   "metadata": {},
   "source": [
    "# ............................................................................................................................."
   ]
  },
  {
   "cell_type": "markdown",
   "id": "c2bfa659",
   "metadata": {},
   "source": [
    "## Exercici 2\n",
    "\n",
    "Conversió de tipus de dades\n",
    "\n",
    "El client rep una llista de dades i necessita generar dues llistes, la primera on estaran tots els elements que es van poder convertir en flotants i l'altra on estan els elements que no es van poder convertir. Exemple de la llista que rep el client: [ '1.3', 'one' , '1e10' , 'seven', '3-1/2', ('2',1,1.4,'not-a-number'), [1,2,'3','3.4']]"
   ]
  },
  {
   "cell_type": "code",
   "execution_count": 9,
   "id": "69471bbb",
   "metadata": {},
   "outputs": [
    {
     "name": "stdout",
     "output_type": "stream",
     "text": [
      "Listado de numeros float: [1.3, 10000000000.0, 2.0, 1.0, 1.4, 1.0, 2.0, 3.0, 3.4]\n",
      "Listado que no se pueden castear a float: ['one', 'seven', '3-1/2', 'not-a-number']\n"
     ]
    }
   ],
   "source": [
    "def is_float(palabra):\n",
    "    try:\n",
    "        float(palabra)\n",
    "        return True\n",
    "    except ValueError:\n",
    "        return False\n",
    "        \n",
    "\n",
    "llista_nombres = [ '1.3', 'one' , '1e10' , 'seven', '3-1/2', ('2',1,1.4,'not-a-number'), [1,2,'3','3.4']]\n",
    "\n",
    "cleaned_list = []\n",
    "not_float = []\n",
    "\n",
    "for item in llista_nombres:\n",
    "    if isinstance(item, str):\n",
    "        if is_float(item):\n",
    "            cleaned_list.append(float(item))\n",
    "        else:\n",
    "            not_float.append(item)\n",
    "    elif isinstance(item, tuple) or isinstance(item, list):\n",
    "        for sub_item in item:\n",
    "            if is_float(str(sub_item)):\n",
    "                cleaned_list.append(float(sub_item))\n",
    "            else:\n",
    "                not_float.append(sub_item)\n",
    "\n",
    "\n",
    "print(f\"Listado de numeros float: {cleaned_list}\")\n",
    "print(f\"Listado que no se pueden castear a float: {not_float}\")"
   ]
  },
  {
   "cell_type": "markdown",
   "id": "fb918e4a",
   "metadata": {},
   "source": [
    "### Para este ejercicio tuve que buscar el comando try y isinstance. En el apartado del isinstance me tuve que apoyar con chatgpt para acabar de resolverlo."
   ]
  },
  {
   "cell_type": "markdown",
   "id": "6b94d12b",
   "metadata": {},
   "source": [
    "# ............................................................................................................................."
   ]
  },
  {
   "cell_type": "markdown",
   "id": "8c4aced5",
   "metadata": {},
   "source": [
    "# NIVELL 3"
   ]
  },
  {
   "cell_type": "markdown",
   "id": "ec58138e",
   "metadata": {},
   "source": [
    "## Exercici 1\n",
    "\n",
    "Comptador i endreçador de paraules d'un text.\n",
    "\n",
    "El client va quedar content amb el comptador de paraules, però ara vol llegir arxius TXT i que calculi la freqüència de cada paraula ordenades dins de les entrades habituals del diccionari segons la lletra amb la qual comencen, és a dir, les claus han d'anar de la A a la Z i dins de la A hem d'anar de la A la Z. Per exemple, per a l'arxiu \"tu_me_quieres_blanca.txt\" la sortida esperada seria:"
   ]
  },
  {
   "cell_type": "code",
   "execution_count": 11,
   "id": "dccfedf7",
   "metadata": {},
   "outputs": [
    {
     "name": "stdout",
     "output_type": "stream",
     "text": [
      "{'a': {'a': 3, 'agua': 1, 'al': 2, 'alba': 4, 'alcobas': 1, 'alimenta': 1, 'alma': 1, 'amarga': 1, 'azucena': 1}, 'b': {'baco': 1, 'banquete': 1, 'bebe': 1, 'blanca': 3, 'boca': 1, 'bosques': 1, 'buen': 1}, 'c': {'cabañas': 1, 'carnes': 2, 'casta': 3, 'cerrada': 1, 'con': 4, 'conservas': 1, 'copas': 1, 'corola': 1, 'corriste': 1, 'cuando': 2, 'cubierto': 1, 'cuerpo': 1, 'cuáles': 1}, 'd': {'de': 8, 'dejaste': 1, 'del': 1, 'diga': 1, 'dios': 2, 'duerme': 1}, 'e': {'el': 4, 'ellas': 1, 'en': 4, 'engaño': 1, 'enredada': 1, 'entonces': 1, 'escarcha': 1, 'espumas': 1, 'esqueleto': 1, 'estrago': 1}, 'f': {'festejando': 1, 'filtrado': 1, 'frutos': 1}, 'h': {'habla': 1, 'hacia': 1, 'haya': 1, 'hayas': 1, 'hermana': 1, 'hombre': 1, 'hubiste': 1, 'huye': 1}, 'i': {'intacto': 1}, 'j': {'jardines': 1}, 'l': {'la': 3, 'labios': 1, 'las': 7, 'lo': 2, 'los': 4, 'luna': 1, 'lévate': 1, 'límpiate': 1}, 'm': {'mano': 1, 'manos': 1, 'margarita': 1, 'me': 10, 'mi': 1, 'mieles': 1, 'milagros': 1, 'mojada': 1, 'montaña': 1, 'morados': 1}, 'n': {'negros': 1, 'ni': 2, 'no': 1, 'nácar': 1, 'nívea': 2}, 'p': {'perdone)': 2, 'perfume': 1, 'por': 2, 'pretendes': 3, 'preténdeme': 3, 'puesto': 1, 'pájaros': 1, 'pámpanos': 1}, 'q': {'que': 6, 'quedó': 1, 'quieres': 6}, 'r': {'rayo': 1, 'raíz': 1, 'renueva': 1, 'rocas': 1, 'rojo': 1}, 's': {'salitre': 1, 'se': 2, 'sea': 1, 'sean': 1, 'sobre': 2, 'sé': 1}, 't': {'te': 3, 'tejidos': 1, 'tenue': 1, 'tierra': 1, 'toca': 1, 'todas': 2, 'todavía': 1, 'tornadas': 1, 'tú': 8}, 'u': {'un': 1, 'una': 1}, 'v': {'vestido': 1, 'vete': 1, 'vive': 1}, 'y': {'y': 5}}\n"
     ]
    }
   ],
   "source": [
    "texto = '''Tú me quieres alba,\n",
    "me quieres de espumas,\n",
    "me quieres de nácar.\n",
    "Que sea azucena\n",
    "Sobre todas, casta.\n",
    "De perfume tenue.\n",
    "Corola cerrada .\n",
    "\n",
    "Ni un rayo de luna\n",
    "filtrado me haya.\n",
    "Ni una margarita\n",
    "se diga mi hermana.\n",
    "Tú me quieres nívea,\n",
    "tú me quieres blanca,\n",
    "tú me quieres alba.\n",
    "\n",
    "Tú que hubiste todas\n",
    "las copas a mano,\n",
    "de frutos y mieles\n",
    "los labios morados.\n",
    "Tú que en el banquete\n",
    "cubierto de pámpanos\n",
    "dejaste las carnes\n",
    "festejando a Baco.\n",
    "Tú que en los jardines\n",
    "negros del Engaño\n",
    "vestido de rojo\n",
    "corriste al Estrago.\n",
    "\n",
    "Tú que el esqueleto\n",
    "conservas intacto\n",
    "no sé todavía\n",
    "por cuáles milagros,\n",
    "me pretendes blanca\n",
    "(Dios te lo perdone),\n",
    "me pretendes casta\n",
    "(Dios te lo perdone),\n",
    "¡me pretendes alba!\n",
    "\n",
    "Huye hacia los bosques,\n",
    "vete a la montaña;\n",
    "límpiate la boca;\n",
    "vive en las cabañas;\n",
    "toca con las manos\n",
    "la tierra mojada;\n",
    "alimenta el cuerpo\n",
    "con raíz amarga;\n",
    "bebe de las rocas;\n",
    "duerme sobre escarcha;\n",
    "renueva tejidos\n",
    "con salitre y agua:\n",
    "\n",
    "Habla con los pájaros\n",
    "y lévate al alba.\n",
    "Y cuando las carnes\n",
    "te sean tornadas,\n",
    "y cuando hayas puesto\n",
    "en ellas el alma\n",
    "que por las alcobas\n",
    "se quedó enredada,\n",
    "entonces, buen hombre,\n",
    "preténdeme blanca,\n",
    "preténdeme nívea,\n",
    "preténdeme casta.'''\n",
    "\n",
    "#Generamos un funcion que contará las palabras\n",
    "def contadordepalabras(texto):\n",
    "    palabras_sep = texto.split()\n",
    "    #Aqui tuve que buscar como transformar todas las palabras a lower, sino el conteo no daba correcto.\n",
    "    palabras_sep1 = [palabra.lower() for palabra in palabras_sep]\n",
    "    #Aqui me di cuenta que tenia palabras como alba y alba. que me generaba un conteo horrible, tuve que buscar el comando\n",
    "    #rstrip y como ejecutarlo en todo el texto\n",
    "    caracteres_a_eliminar = (\".\", \",\", \":\",\"!\",\";\",\"¡\",\"(\")  # Tupla con los caracteres a eliminar\n",
    "\n",
    "    #Despues de una ardua tarea, me di cuenta de que tambien tenia que eliminar signo de puntuacion delante de las palabras.\n",
    "    #por suerte encontre una manera de revisar ambas cosas en el mismo loop\n",
    "    palabras_separadas = []\n",
    "    for palabra in palabras_sep1:\n",
    "        for caracter in caracteres_a_eliminar:\n",
    "            palabra = palabra.rstrip(caracter).lstrip(caracter)\n",
    "        palabras_separadas.append(palabra)\n",
    "    #Diccionario donde iremos guardando las palabra sin los signos de puntuacion\n",
    "    palabras = {}\n",
    "    #Aqui he generado una variable para obtener la primera letra de cada palabra, seguramente habra una opcion más eficaz, pero es la\n",
    "    #que me ha servido sin tener que googlear/gpt nada.\n",
    "    primera_letra = 0\n",
    "\n",
    "    for palabra in palabras_separadas:\n",
    "        if palabra:\n",
    "            if palabra[primera_letra] in palabras:\n",
    "                palabras[palabra[primera_letra]][palabra] = palabras[palabra[primera_letra]].get(palabra, 0) + 1\n",
    "            else:\n",
    "                palabras[palabra[primera_letra]] = {palabra: 1}\n",
    "    \n",
    "    # En otro momento he visto que conseguia tener todo filtrado, pero no estaba ordenado, en este caso el texto empezaba por Tú\n",
    "    #asi que el diccionario me empezaba por la t, he tenido que buscar como buscar ordenar las keys.\n",
    "    sorted_keys = sorted(palabras.keys())\n",
    "\n",
    "    #Tambien he visto que no tenia ordenados los values dentro de los keys, asi que he tenido que buscar una forma para arreglarlo\n",
    "    sorted_values = {key: sorted(palabras[key].items()) for key in sorted_keys}\n",
    "\n",
    "    #Aqui he tenido que buscar como juntar el resultado para que me ordenara todos los values\n",
    "    resultado = {key: dict(values) for key, values in sorted_values.items()}\n",
    "    return resultado\n",
    "\n",
    "\n",
    "resultado = contadordepalabras(texto)\n",
    "print(resultado)"
   ]
  },
  {
   "cell_type": "code",
   "execution_count": null,
   "id": "4e23fdfa",
   "metadata": {},
   "outputs": [],
   "source": []
  }
 ],
 "metadata": {
  "kernelspec": {
   "display_name": "Python 3 (ipykernel)",
   "language": "python",
   "name": "python3"
  },
  "language_info": {
   "codemirror_mode": {
    "name": "ipython",
    "version": 3
   },
   "file_extension": ".py",
   "mimetype": "text/x-python",
   "name": "python",
   "nbconvert_exporter": "python",
   "pygments_lexer": "ipython3",
   "version": "3.11.4"
  }
 },
 "nbformat": 4,
 "nbformat_minor": 5
}
